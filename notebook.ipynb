{
 "cells": [
  {
   "cell_type": "code",
   "execution_count": null,
   "metadata": {},
   "outputs": [
    {
     "name": "stderr",
     "output_type": "stream",
     "text": [
      "Loading pipeline components...: 100%|██████████| 7/7 [00:01<00:00,  4.33it/s]\n"
     ]
    }
   ],
   "source": [
    "import torch\n",
    "from diffusers import AutoPipelineForImage2Image  # Importing the AutoPipelineForImage2Image class from the diffusers library\n",
    "from diffusers.utils import load_image, make_image_grid  # Importing utility functions for image loading and grid creation\n",
    "\n",
    "# Loading the pre-trained image-to-image model from the specified checkpoint\n",
    "pipeline = AutoPipelineForImage2Image.from_pretrained(\n",
    "    \"FinetunedStableDiffusion\",  # Path or name of the model checkpoint\n",
    "    torch_dtype=torch.float16,  # Using float16 precision for faster computation (especially on GPUs)\n",
    "    use_safetensors=True  # Ensuring safe loading of model weights\n",
    ")\n",
    "\n",
    "# Enabling CPU offloading to reduce memory usage on the GPU\n",
    "pipeline.enable_model_cpu_offload()\n",
    "\n",
    "# Enabling memory-efficient attention (xFormers) to optimize memory usage during model inference\n",
    "pipeline.enable_xformers_memory_efficient_attention()\n"
   ]
  },
  {
   "cell_type": "code",
   "execution_count": 19,
   "metadata": {},
   "outputs": [
    {
     "name": "stderr",
     "output_type": "stream",
     "text": [
      "100%|██████████| 40/40 [00:05<00:00,  7.02it/s]\n"
     ]
    }
   ],
   "source": [
    "# Loading the initial image from the specified path\n",
    "init_image = load_image(\"dog/alvan-nee-bQaAJCbNq3g-unsplash.jpeg\").resize((512, 512))\n",
    "\n",
    "# Defining the prompt for generating the image\n",
    "prompt = \"A highly detailed portrait of a dog wearing stylish round glasses, sitting elegantly, with soft lighting and a warm color palette, photorealistic, 8K resolution, intricate fur texture, and a charming expression.\"\n",
    "\n",
    "# Generating the new image using the pipeline by passing the prompt and initial image\n",
    "# The generated image is extracted from the pipeline's output (first image from the list)\n",
    "image = pipeline(prompt, image=init_image).images[0]\n",
    "\n",
    "# Creating an image grid with the original image and the generated image side by side\n",
    "image_grid = make_image_grid([init_image, image], rows=1, cols=2)\n",
    "\n",
    "# Saving the generated image to the disk\n",
    "image.save(\"generated-dog-bucket.png\")\n",
    "\n",
    "# Saving the image grid comparison (original vs generated) to the disk\n",
    "image_grid.save(\"Given-image-vs-Generated-Image.png\")\n"
   ]
  }
 ],
 "metadata": {
  "kernelspec": {
   "display_name": "sd",
   "language": "python",
   "name": "python3"
  },
  "language_info": {
   "codemirror_mode": {
    "name": "ipython",
    "version": 3
   },
   "file_extension": ".py",
   "mimetype": "text/x-python",
   "name": "python",
   "nbconvert_exporter": "python",
   "pygments_lexer": "ipython3",
   "version": "3.11.10"
  }
 },
 "nbformat": 4,
 "nbformat_minor": 2
}
